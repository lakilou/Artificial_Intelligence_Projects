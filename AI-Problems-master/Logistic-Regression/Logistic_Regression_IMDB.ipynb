{
 "cells": [
  {
   "cell_type": "code",
   "execution_count": 1,
   "id": "0c8eee1b",
   "metadata": {},
   "outputs": [],
   "source": [
    "import tensorflow as tf\n",
    "import numpy as np\n",
    "\n",
    "(x_train, y_train), (x_test, y_test) = tf.keras.datasets.imdb.load_data(num_words=4000)\n",
    "\n",
    "word_index = tf.keras.datasets.imdb.get_word_index()\n",
    "index2word = dict((i + 3, word) for (word, i) in word_index.items())\n",
    "index2word[0] = '[pad]'\n",
    "index2word[1] = '[bos]'\n",
    "index2word[2] = '[oov]'\n",
    "x_train = np.array([' '.join([index2word[idx] for idx in text]) for text in x_train])\n",
    "x_test = np.array([' '.join([index2word[idx] for idx in text]) for text in x_test])"
   ]
  },
  {
   "cell_type": "code",
   "execution_count": 2,
   "id": "00619792",
   "metadata": {},
   "outputs": [
    {
     "data": {
      "text/plain": [
       "88584"
      ]
     },
     "execution_count": 2,
     "metadata": {},
     "output_type": "execute_result"
    }
   ],
   "source": [
    "len(word_index)"
   ]
  },
  {
   "cell_type": "code",
   "execution_count": 3,
   "id": "2fb50e63",
   "metadata": {},
   "outputs": [
    {
     "data": {
      "text/plain": [
       "array([\"[bos] this film was just brilliant casting location scenery story direction [oov] really suited the part they played and you could just imagine being there robert [oov] is an amazing actor and now the same being director [oov] father came from the same [oov] island as myself so i loved the fact there was a real connection with this film the witty [oov] throughout the film were great it was just brilliant so much that i bought the film as soon as it was released for [oov] and would recommend it to everyone to watch and the fly [oov] was amazing really cried at the end it was so sad and you know what they say if you cry at a film it must have been good and this definitely was also [oov] to the two little [oov] that played the [oov] of norman and paul they were just brilliant children are often left out of the [oov] list i think because the stars that play them all grown up are such a big [oov] for the whole film but these children are amazing and should be [oov] for what they have done don't you think the whole story was so lovely because it was true and was [oov] life after all that was [oov] with us all\",\n",
       "       \"[bos] big hair big [oov] bad music and a giant [oov] [oov] these are the words to best describe this terrible movie i love cheesy horror movies and i've seen hundreds but this had got to be on of the worst ever made the plot is paper thin and ridiculous the acting is an [oov] the script is completely laughable the best is the end [oov] with the cop and how he worked out who the killer is it's just so damn terribly written the clothes are [oov] and funny in equal [oov] the hair is big lots of [oov] [oov] men wear those cut [oov] [oov] that show off their [oov] [oov] that men actually [oov] them and the music is just [oov] trash that plays over and over again in almost every scene there is [oov] music [oov] and [oov] taking away bodies and the [oov] still doesn't close for [oov] all [oov] aside this is a truly bad film whose only charm is to look back on the disaster that was the 80's and have a good old laugh at how bad everything was back then\",\n",
       "       \"[bos] this has to be one of the worst films of the [oov] when my friends i were watching this film being the target audience it was aimed at we just sat watched the first half an hour with our [oov] touching the floor at how bad it really was the rest of the time everyone else in the theatre just started talking to each other leaving or generally crying into their popcorn that they actually paid money they had [oov] working to watch this [oov] excuse for a film it must have looked like a great idea on paper but on film it looks like no one in the film has a clue what is going on crap acting crap costumes i can't get across how [oov] this is to watch save yourself an hour a bit of your life\"],\n",
       "      dtype='<U12529')"
      ]
     },
     "execution_count": 3,
     "metadata": {},
     "output_type": "execute_result"
    }
   ],
   "source": [
    "x_train[0:3]"
   ]
  },
  {
   "cell_type": "code",
   "execution_count": 4,
   "id": "4eda3453",
   "metadata": {},
   "outputs": [
    {
     "name": "stdout",
     "output_type": "stream",
     "text": [
      "3998\n"
     ]
    }
   ],
   "source": [
    "vocabulary = list()\n",
    "for text in x_train:\n",
    "  tokens = text.split()\n",
    "  vocabulary.extend(tokens)\n",
    "\n",
    "vocabulary = set(vocabulary)\n",
    "print(len(vocabulary)) # number of features"
   ]
  },
  {
   "cell_type": "code",
   "execution_count": 5,
   "id": "3e1e6e10",
   "metadata": {},
   "outputs": [
    {
     "name": "stderr",
     "output_type": "stream",
     "text": [
      "100%|████████████████████████████████████████████████████████████████████████████| 25000/25000 [06:07<00:00, 68.04it/s]\n",
      "100%|████████████████████████████████████████████████████████████████████████████| 25000/25000 [05:56<00:00, 70.13it/s]\n"
     ]
    }
   ],
   "source": [
    "from tqdm import tqdm\n",
    "\n",
    "x_train_binary = list()\n",
    "x_test_binary = list()\n",
    "\n",
    "for text in tqdm(x_train):\n",
    "  tokens = text.split()\n",
    "  binary_vector = list()\n",
    "  for vocab_token in vocabulary:\n",
    "    if vocab_token in tokens:\n",
    "      binary_vector.append(1)\n",
    "    else:\n",
    "      binary_vector.append(0)\n",
    "  x_train_binary.append(binary_vector)\n",
    "\n",
    "x_train_binary = np.array(x_train_binary) # an array that in every position there is a sentiment\n",
    "\n",
    "for text in tqdm(x_test):\n",
    "  tokens = text.split()\n",
    "  binary_vector = list()\n",
    "  for vocab_token in vocabulary:\n",
    "    if vocab_token in tokens:\n",
    "      binary_vector.append(1)\n",
    "    else:\n",
    "      binary_vector.append(0)\n",
    "  x_test_binary.append(binary_vector)\n",
    "\n",
    "x_test_binary = np.array(x_test_binary) # an array that in every position there is a sentiment"
   ]
  },
  {
   "cell_type": "code",
   "execution_count": 6,
   "id": "50eb2ca5",
   "metadata": {},
   "outputs": [
    {
     "name": "stdout",
     "output_type": "stream",
     "text": [
      "[[0 0 0 ... 0 0 0]\n",
      " [0 0 0 ... 0 0 0]\n",
      " [0 0 0 ... 0 0 0]\n",
      " ...\n",
      " [0 0 0 ... 0 0 0]\n",
      " [0 0 0 ... 0 0 0]\n",
      " [0 0 0 ... 0 0 0]]\n"
     ]
    }
   ],
   "source": [
    "print(x_train_binary)"
   ]
  },
  {
   "cell_type": "code",
   "execution_count": 7,
   "id": "22eb61b3",
   "metadata": {},
   "outputs": [
    {
     "name": "stdout",
     "output_type": "stream",
     "text": [
      "(25000, 3998)\n"
     ]
    }
   ],
   "source": [
    "print(x_train_binary.shape) # 25000 samples and 3998 features"
   ]
  },
  {
   "cell_type": "markdown",
   "id": "703ad616",
   "metadata": {},
   "source": [
    "### The function for logistic regression is given below:\n",
    "\n",
    "h( x ) = sigmoid( wx + b )\n",
    "\n",
    "Here, w is the weight vector.\n",
    "x is the feature vector. \n",
    "b is the bias.\n",
    "\n",
    "sigmoid( z ) = 1 / ( 1 + e( - z ) )"
   ]
  },
  {
   "cell_type": "markdown",
   "id": "fb953043",
   "metadata": {},
   "source": [
    "Optimizing algorithms like i.e gradient descent only converge convex function into a global minimum. \n",
    "\n",
    "So, the simplified cost function we use :"
   ]
  },
  {
   "cell_type": "markdown",
   "id": "af0e1ad2",
   "metadata": {},
   "source": [
    "J = - ylog( h(x) ) - ( 1 - y )log( 1 - h(x) )\n",
    "\n",
    "here, y is the real target value\n",
    "\n",
    "h( x ) = sigmoid( wx + b )\n",
    "\n",
    "For y = 0,\n",
    "\n",
    "J = - log( 1 - h(x) )\n",
    "\n",
    "and y = 1,\n",
    "\n",
    "J = - log( h(x) )"
   ]
  },
  {
   "cell_type": "markdown",
   "id": "6eb38943",
   "metadata": {},
   "source": [
    "### Gradient Descent\n",
    "<code>repeat until convergence  {\n",
    "       tmpi = wi - learning_rate * dwi\n",
    "       wi = tmpi         \n",
    "}</code>"
   ]
  },
  {
   "attachments": {
    "image.png": {
     "image/png": "[encoded data removed]"
    }
   },
   "cell_type": "markdown",
   "id": "0794889f",
   "metadata": {},
   "source": [
    "The chain rule is used to calculate the gradients like i.e dw.\n",
    "\n",
    "![image.png](attachment:image.png)\n",
    "\n",
    "here, a = sigmoid( z ) and z = wx + b."
   ]
  },
  {
   "cell_type": "markdown",
   "id": "c6aa49d8",
   "metadata": {},
   "source": [
    "## Logistic Regression"
   ]
  },
  {
   "cell_type": "code",
   "execution_count": 22,
   "id": "a0e550f0",
   "metadata": {},
   "outputs": [],
   "source": [
    "class LogisticRegression() :\n",
    "    def __init__( self, learning_rate, iterations ) :\n",
    "        self.learning_rate = learning_rate\n",
    "        self.iterations = iterations\n",
    "        \n",
    "    # Function for model training\n",
    "    def fit( self, X, Y ) :\n",
    "        # no_of_training_examples, no_of_features\n",
    "        self.m, self.n = X.shape\n",
    "        # weight initialization\n",
    "        self.W = np.zeros( self.n )\n",
    "        self.b = 0\n",
    "        self.X = X\n",
    "        self.Y = Y\n",
    "        \n",
    "        # gradient descent learning       \n",
    "        for i in range( self.iterations ) :\n",
    "            self.update_weights()\n",
    "        return self\n",
    "    \n",
    "    # Helper function to update weights in gradient descent\n",
    "    def update_weights( self ) :\n",
    "        A = 1 / ( 1 + np.exp( - ( self.X.dot( self.W ) + self.b ) ) )\n",
    "        \n",
    "        # calculate gradients\n",
    "        tmp = ( A - self.Y.T )\n",
    "        tmp = np.reshape( tmp, self.m )\n",
    "        dW = np.dot( self.X.T, tmp ) / self.m\n",
    "        db = np.sum( tmp ) / self.m\n",
    "        \n",
    "        # update weights\n",
    "        self.W = self.W - self.learning_rate * dW\n",
    "        self.b = self.b - self.learning_rate * db\n",
    "        \n",
    "        return self\n",
    "    \n",
    "    # Hypothetical function h(x)\n",
    "    def predict( self, X ) :\n",
    "        Z = 1 / ( 1 + np.exp( - ( X.dot( self.W ) + self.b ) ) )\n",
    "        Y = [1 if i > 0.5 else 0 for i in Z]\n",
    "        return Y"
   ]
  },
  {
   "cell_type": "code",
   "execution_count": 23,
   "id": "5a2204ae",
   "metadata": {},
   "outputs": [
    {
     "name": "stdout",
     "output_type": "stream",
     "text": [
      "LR classification accuracy: 0.82576\n"
     ]
    }
   ],
   "source": [
    "if __name__ == \"__main__\":\n",
    "    \n",
    "    def accuracy(y_true, y_pred):\n",
    "        accuracy = np.sum(y_true == y_pred) / len(y_true)\n",
    "        return accuracy\n",
    "    \n",
    "    regressor = LogisticRegression(learning_rate=0.01, iterations=1000)\n",
    "    regressor.fit(x_train_binary, y_train)\n",
    "    predictions = regressor.predict(x_test_binary)\n",
    "\n",
    "    print(\"Logistic Regression classification accuracy:\", accuracy(y_test, predictions))"
   ]
  },
  {
   "cell_type": "code",
   "execution_count": 24,
   "id": "06ba7667",
   "metadata": {},
   "outputs": [],
   "source": [
    "# to compare our model's accuracy with sklearn model\n",
    "from sklearn.linear_model import LogisticRegression"
   ]
  },
  {
   "cell_type": "code",
   "execution_count": 26,
   "id": "d238a58b",
   "metadata": {},
   "outputs": [
    {
     "name": "stderr",
     "output_type": "stream",
     "text": [
      "C:\\Users\\Johnny\\anaconda3\\lib\\site-packages\\sklearn\\linear_model\\_logistic.py:814: ConvergenceWarning: lbfgs failed to converge (status=1):\n",
      "STOP: TOTAL NO. of ITERATIONS REACHED LIMIT.\n",
      "\n",
      "Increase the number of iterations (max_iter) or scale the data as shown in:\n",
      "    https://scikit-learn.org/stable/modules/preprocessing.html\n",
      "Please also refer to the documentation for alternative solver options:\n",
      "    https://scikit-learn.org/stable/modules/linear_model.html#logistic-regression\n",
      "  n_iter_i = _check_optimize_result(\n"
     ]
    },
    {
     "name": "stdout",
     "output_type": "stream",
     "text": [
      "Logistic Regression classification accuracy: 0.85812\n"
     ]
    }
   ],
   "source": [
    "logisticRegr = LogisticRegression()\n",
    "logisticRegr.fit(x_train_binary, y_train)\n",
    "predictions = logisticRegr.predict(x_test_binary)\n",
    "\n",
    "print(\"Logistic Regression classification accuracy:\", accuracy(y_test, predictions))"
   ]
  },
  {
   "cell_type": "code",
   "execution_count": null,
   "id": "af8e6564",
   "metadata": {},
   "outputs": [],
   "source": []
  }
 ],
 "metadata": {
  "kernelspec": {
   "display_name": "Python 3 (ipykernel)",
   "language": "python",
   "name": "python3"
  },
  "language_info": {
   "codemirror_mode": {
    "name": "ipython",
    "version": 3
   },
   "file_extension": ".py",
   "mimetype": "text/x-python",
   "name": "python",
   "nbconvert_exporter": "python",
   "pygments_lexer": "ipython3",
   "version": "3.8.12"
  }
 },
 "nbformat": 4,
 "nbformat_minor": 5
}
